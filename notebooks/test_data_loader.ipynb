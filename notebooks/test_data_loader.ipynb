{
 "cells": [
  {
   "cell_type": "code",
   "execution_count": 1,
   "metadata": {},
   "outputs": [],
   "source": [
    "%load_ext autoreload\n",
    "%autoreload 2\n",
    "\n",
    "import sys\n",
    "import os\n",
    "\n",
    "import pandas as pd\n",
    "import joblib\n",
    "import json\n",
    "import numpy as np\n",
    "\n",
    "sys.path.append(\"..\")"
   ]
  },
  {
   "cell_type": "code",
   "execution_count": 2,
   "metadata": {},
   "outputs": [
    {
     "name": "stderr",
     "output_type": "stream",
     "text": [
      "/mnt/data/stephana93dm/storage/conda_envs/alternative_clustering/lib/python3.11/site-packages/transformers/utils/hub.py:124: FutureWarning: Using `TRANSFORMERS_CACHE` is deprecated and will be removed in v5 of Transformers. Use `HF_HOME` instead.\n",
      "  warnings.warn(\n"
     ]
    }
   ],
   "source": [
    "from alternative_image_clustering.data.dataset import Dataset\n",
    "\n",
    "datasets = [\n",
    "    \"cards\",\n",
    "    \"fruits360\",\n",
    "    \"gtsrb\",\n",
    "    \"nrobjects\"\n",
    "]\n",
    "\n",
    "base_dir = \"/mnt/data/stephana93dm/storage/projects/alternative_image_clustering\"\n",
    "dset = Dataset(\n",
    "    base_dir=base_dir,\n",
    "    dataset_name=\"nrobjects\",\n",
    "    embedding_type= \"tfidf\"\n",
    ")"
   ]
  },
  {
   "cell_type": "code",
   "execution_count": 25,
   "metadata": {},
   "outputs": [],
   "source": [
    "from alternative_image_clustering.experiments.run_all import run_image_experiments, run_baseline_kmeans\n",
    "\n",
    "\n",
    "res = run_image_experiments(dataset=\"nrobjects\", base_dir=base_dir)"
   ]
  },
  {
   "cell_type": "code",
   "execution_count": 26,
   "metadata": {},
   "outputs": [
    {
     "data": {
      "text/plain": [
       "{'kmeans': {'shape': {'inertia': 511170.6219745354,\n",
       "   'labels': array([2, 1, 2, ..., 0, 2, 2], dtype=int32),\n",
       "   'random_state': 32,\n",
       "   'metrics': {'AMI': 0.9622259879359462,\n",
       "    'NMI': 0.9622334155739896,\n",
       "    'ARI': 0.952824320754351,\n",
       "    'ACC': 0.9666}},\n",
       "  'material': {'inertia': 637519.4204628995,\n",
       "   'labels': array([0, 1, 0, ..., 0, 0, 0], dtype=int32),\n",
       "   'random_state': 32,\n",
       "   'metrics': {'AMI': 1.3888329333587243e-06,\n",
       "    'NMI': 7.672896847426471e-05,\n",
       "    'ARI': 5.062455685603226e-05,\n",
       "    'ACC': 0.50527}},\n",
       "  'colour': {'inertia': 409588.79298877175,\n",
       "   'labels': array([1, 4, 1, ..., 0, 1, 1], dtype=int32),\n",
       "   'random_state': 835,\n",
       "   'metrics': {'AMI': 0.21732158509976846,\n",
       "    'NMI': 0.21788569218535786,\n",
       "    'ARI': 0.09709911809072401,\n",
       "    'ACC': 0.30744000000000005}}},\n",
       " 'nrkmeans': {}}"
      ]
     },
     "execution_count": 26,
     "metadata": {},
     "output_type": "execute_result"
    }
   ],
   "source": [
    "res"
   ]
  },
  {
   "cell_type": "code",
   "execution_count": 29,
   "metadata": {},
   "outputs": [
    {
     "name": "stdout",
     "output_type": "stream",
     "text": [
      "Running kmeans on full embeddings for each category\n",
      "Running kmeans for each prompt\n",
      "(10000, 1024) 10000\n",
      "(10000, 1024) 10000\n",
      "(10000, 1024) 10000\n",
      "(10000, 1024) 10000\n",
      "(10000, 1024) 10000\n",
      "(10000, 1024) 10000\n",
      "(10000, 1024) 10000\n",
      "(10000, 1024) 10000\n",
      "(10000, 1024) 10000\n",
      "(10000, 1024) 10000\n",
      "(10000, 1024) 10000\n",
      "(10000, 1024) 10000\n",
      "(10000, 1024) 10000\n",
      "(10000, 1024) 10000\n",
      "(10000, 1024) 10000\n",
      "(10000, 1024) 10000\n",
      "(10000, 1024) 10000\n",
      "(10000, 1024) 10000\n",
      "Transforming to average and max. performance\n",
      "Computing per category performance\n"
     ]
    }
   ],
   "source": [
    "per_prompt_performance = run_baseline_kmeans(base_dir=base_dir, dataset=\"nrobjects\", embedding_type=\"sbert_concat\")"
   ]
  },
  {
   "cell_type": "code",
   "execution_count": 31,
   "metadata": {},
   "outputs": [
    {
     "data": {
      "text/plain": [
       "({'material': {'AMI': 0.15024724754384808,\n",
       "   'NMI': 0.15031358142120102,\n",
       "   'ARI': 0.14834249699605492,\n",
       "   'ACC': 0.6355733333333334},\n",
       "  'shape': {'AMI': 0.7936399029852245,\n",
       "   'NMI': 0.7936781735886144,\n",
       "   'ARI': 0.7585725131193963,\n",
       "   'ACC': 0.8676999999999998},\n",
       "  'colour': {'AMI': 0.8828091066115014,\n",
       "   'NMI': 0.8828920435107835,\n",
       "   'ARI': 0.8122647237808498,\n",
       "   'ACC': 0.880875}},\n",
       " {'material': {'AMI': 0.4055749454436882,\n",
       "   'NMI': 0.40562405138635793,\n",
       "   'ARI': 0.3721448098784884,\n",
       "   'ACC': 0.7770500000000001},\n",
       "  'shape': {'AMI': 0.9991697939094195,\n",
       "   'NMI': 0.9991699450942368,\n",
       "   'ARI': 0.9996979154804484,\n",
       "   'ACC': 0.9999},\n",
       "  'colour': {'AMI': 0.9515948288749121,\n",
       "   'NMI': 0.9516287661939875,\n",
       "   'ARI': 0.9269009680544787,\n",
       "   'ACC': 0.9621500000000001}},\n",
       " {'shape': {'inertia': 448.8343811035156,\n",
       "   'labels': array([1, 2, 1, ..., 0, 1, 1], dtype=int32),\n",
       "   'random_state': 32,\n",
       "   'metrics': {'AMI': 1.0, 'NMI': 1.0, 'ARI': 1.0, 'ACC': 1.0}},\n",
       "  'material': {'inertia': 562.3531494140625,\n",
       "   'labels': array([1, 1, 1, ..., 0, 1, 1], dtype=int32),\n",
       "   'random_state': 406,\n",
       "   'metrics': {'AMI': 0.0006146686630708821,\n",
       "    'NMI': 0.0006902938319909058,\n",
       "    'ARI': 0.0006224738500543275,\n",
       "    'ACC': 0.5127}},\n",
       "  'colour': {'inertia': 286.4967041015625,\n",
       "   'labels': array([5, 1, 1, ..., 5, 3, 5], dtype=int32),\n",
       "   'random_state': 302,\n",
       "   'metrics': {'AMI': 0.8872797532113378,\n",
       "    'NMI': 0.8873605314878624,\n",
       "    'ARI': 0.7967940942178766,\n",
       "    'ACC': 0.84748}}},\n",
       " {'shape': {'inertia': 502.4396057128906,\n",
       "   'labels': array([2, 0, 2, ..., 1, 2, 2], dtype=int32),\n",
       "   'random_state': 930,\n",
       "   'metrics': {'AMI': 0.9230826073730857,\n",
       "    'NMI': 0.9230973663091661,\n",
       "    'ARI': 0.8951464477815361,\n",
       "    'ACC': 0.92125}},\n",
       "  'material': {'inertia': 603.3859252929688,\n",
       "   'labels': array([1, 1, 1, ..., 0, 1, 1], dtype=int32),\n",
       "   'random_state': 32,\n",
       "   'metrics': {'AMI': 0.00016805226696560346,\n",
       "    'NMI': 0.00024320962954344294,\n",
       "    'ARI': 0.0002893238497947943,\n",
       "    'ACC': 0.50984}},\n",
       "  'colour': {'inertia': 399.2535095214844,\n",
       "   'labels': array([0, 5, 3, ..., 4, 3, 3], dtype=int32),\n",
       "   'random_state': 360,\n",
       "   'metrics': {'AMI': 0.04798828139526115,\n",
       "    'NMI': 0.048666037828466645,\n",
       "    'ARI': 0.023916974914948205,\n",
       "    'ACC': 0.23567}}})"
      ]
     },
     "execution_count": 31,
     "metadata": {},
     "output_type": "execute_result"
    }
   ],
   "source": [
    "per_prompt_performance"
   ]
  },
  {
   "cell_type": "code",
   "execution_count": 20,
   "metadata": {},
   "outputs": [
    {
     "data": {
      "text/plain": [
       "({'type': {'AMI': 0.5553747931982943,\n",
       "   'NMI': 0.5555992729503831,\n",
       "   'ARI': 0.4974141510675672,\n",
       "   'ACC': 0.6770089285714286},\n",
       "  'colour': {'AMI': 0.8274598604992264,\n",
       "   'NMI': 0.8274784324112351,\n",
       "   'ARI': 0.8850765465359106,\n",
       "   'ACC': 0.9703621031746031}},\n",
       " {'type': {'AMI': 0.6100758125048855,\n",
       "   'NMI': 0.6102733294253279,\n",
       "   'ARI': 0.5648056805302125,\n",
       "   'ACC': 0.7426488095238095},\n",
       "  'colour': {'AMI': 0.8530328091044186,\n",
       "   'NMI': 0.8530486245666111,\n",
       "   'ARI': 0.9104206484895829,\n",
       "   'ACC': 0.9770833333333331}},\n",
       " {'type': {'inertia': 262.6256408691406,\n",
       "   'labels': array([1, 1, 0, ..., 2, 1, 1], dtype=int32),\n",
       "   'random_state': 732,\n",
       "   'metrics': {'AMI': 0.6256338754262021,\n",
       "    'NMI': 0.625818726052952,\n",
       "    'ARI': 0.5708905207805037,\n",
       "    'ACC': 0.7617857142857143}},\n",
       "  'colour': {'inertia': 124.3109130859375,\n",
       "   'labels': array([0, 0, 1, ..., 1, 0, 0], dtype=int32),\n",
       "   'random_state': 32,\n",
       "   'metrics': {'AMI': 0.8448822154877471,\n",
       "    'NMI': 0.8448989064584758,\n",
       "    'ARI': 0.8996596069368804,\n",
       "    'ACC': 0.9742559523809524}}},\n",
       " {'type': {'inertia': 222.3357696533203,\n",
       "   'labels': array([1, 1, 0, ..., 3, 1, 1], dtype=int32),\n",
       "   'random_state': 835,\n",
       "   'metrics': {'AMI': 0.6489298391491257,\n",
       "    'NMI': 0.6491060286243293,\n",
       "    'ARI': 0.5861855165500872,\n",
       "    'ACC': 0.7330208333333333}},\n",
       "  'colour': {'inertia': 354.0880432128906,\n",
       "   'labels': array([0, 0, 1, ..., 1, 0, 0], dtype=int32),\n",
       "   'random_state': 302,\n",
       "   'metrics': {'AMI': 0.631977049711787,\n",
       "    'NMI': 0.6320200570628004,\n",
       "    'ARI': 0.5985404559231358,\n",
       "    'ACC': 0.8666666666666666}}})"
      ]
     },
     "execution_count": 20,
     "metadata": {},
     "output_type": "execute_result"
    }
   ],
   "source": [
    "per_prompt_performance"
   ]
  },
  {
   "cell_type": "code",
   "execution_count": 13,
   "metadata": {},
   "outputs": [],
   "source": [
    "embeddings = dset.get_embeddings()[0:400]"
   ]
  },
  {
   "cell_type": "code",
   "execution_count": 15,
   "metadata": {},
   "outputs": [
    {
     "data": {
      "text/plain": [
       "array([[0.        , 0.        , 0.02935825, ..., 0.        , 0.        ,\n",
       "        0.        ],\n",
       "       [0.        , 0.        , 0.        , ..., 0.        , 0.        ,\n",
       "        0.        ],\n",
       "       [0.        , 0.        , 0.        , ..., 0.        , 0.        ,\n",
       "        0.        ],\n",
       "       ...,\n",
       "       [0.        , 0.        , 0.05509474, ..., 0.        , 0.        ,\n",
       "        0.        ],\n",
       "       [0.        , 0.        , 0.0566842 , ..., 0.        , 0.        ,\n",
       "        0.        ],\n",
       "       [0.        , 0.        , 0.07742015, ..., 0.        , 0.        ,\n",
       "        0.        ]])"
      ]
     },
     "execution_count": 15,
     "metadata": {},
     "output_type": "execute_result"
    }
   ],
   "source": [
    "embeddings"
   ]
  },
  {
   "cell_type": "code",
   "execution_count": 8,
   "metadata": {},
   "outputs": [
    {
     "data": {
      "text/plain": [
       "[3, 2, 6]"
      ]
     },
     "execution_count": 8,
     "metadata": {},
     "output_type": "execute_result"
    }
   ],
   "source": [
    "n_clusters"
   ]
  },
  {
   "cell_type": "code",
   "execution_count": 16,
   "metadata": {},
   "outputs": [
    {
     "ename": "KeyboardInterrupt",
     "evalue": "",
     "output_type": "error",
     "traceback": [
      "\u001b[0;31m---------------------------------------------------------------------------\u001b[0m",
      "\u001b[0;31mKeyboardInterrupt\u001b[0m                         Traceback (most recent call last)",
      "Cell \u001b[0;32mIn[16], line 6\u001b[0m\n\u001b[1;32m      3\u001b[0m n_clusters_per_category \u001b[38;5;241m=\u001b[39m dset\u001b[38;5;241m.\u001b[39mget_n_clusters_per_category()\n\u001b[1;32m      4\u001b[0m n_clusters \u001b[38;5;241m=\u001b[39m \u001b[38;5;28mlist\u001b[39m(n_clusters_per_category\u001b[38;5;241m.\u001b[39mvalues())\n\u001b[0;32m----> 6\u001b[0m nrkmeans \u001b[38;5;241m=\u001b[39m \u001b[43mNrKmeans\u001b[49m\u001b[43m(\u001b[49m\u001b[43mn_clusters\u001b[49m\u001b[38;5;241;43m=\u001b[39;49m\u001b[43mn_clusters\u001b[49m\u001b[43m,\u001b[49m\u001b[43m \u001b[49m\u001b[43mn_init\u001b[49m\u001b[38;5;241;43m=\u001b[39;49m\u001b[38;5;241;43m1\u001b[39;49m\u001b[43m,\u001b[49m\u001b[43m \u001b[49m\u001b[43mmax_iter\u001b[49m\u001b[38;5;241;43m=\u001b[39;49m\u001b[38;5;241;43m300\u001b[39;49m\u001b[43m,\u001b[49m\u001b[43m \u001b[49m\u001b[43mrandom_state\u001b[49m\u001b[38;5;241;43m=\u001b[39;49m\u001b[38;5;241;43m42\u001b[39;49m\u001b[43m)\u001b[49m\u001b[38;5;241;43m.\u001b[39;49m\u001b[43mfit\u001b[49m\u001b[43m(\u001b[49m\u001b[43membeddings\u001b[49m\u001b[43m)\u001b[49m\n",
      "File \u001b[0;32m/mnt/data/stephana93dm/storage/conda_envs/alternative_clustering/lib/python3.11/site-packages/clustpy/alternative/nrkmeans.py:854\u001b[0m, in \u001b[0;36mNrKmeans.fit\u001b[0;34m(self, X, y)\u001b[0m\n\u001b[1;32m    852\u001b[0m \u001b[38;5;28;01mfor\u001b[39;00m i \u001b[38;5;129;01min\u001b[39;00m \u001b[38;5;28mrange\u001b[39m(\u001b[38;5;28mself\u001b[39m\u001b[38;5;241m.\u001b[39mn_init):\n\u001b[1;32m    853\u001b[0m     local_random_state \u001b[38;5;241m=\u001b[39m check_random_state(all_random_states[i])\n\u001b[0;32m--> 854\u001b[0m     labels, centers, V, m, P, n_clusters, scatter_matrices \u001b[38;5;241m=\u001b[39m \u001b[43m_nrkmeans\u001b[49m\u001b[43m(\u001b[49m\u001b[43mX\u001b[49m\u001b[43m,\u001b[49m\u001b[43m \u001b[49m\u001b[38;5;28;43mself\u001b[39;49m\u001b[38;5;241;43m.\u001b[39;49m\u001b[43mn_clusters\u001b[49m\u001b[43m,\u001b[49m\u001b[43m \u001b[49m\u001b[38;5;28;43mself\u001b[39;49m\u001b[38;5;241;43m.\u001b[39;49m\u001b[43mV\u001b[49m\u001b[43m,\u001b[49m\u001b[43m \u001b[49m\u001b[38;5;28;43mself\u001b[39;49m\u001b[38;5;241;43m.\u001b[39;49m\u001b[43mm\u001b[49m\u001b[43m,\u001b[49m\n\u001b[1;32m    855\u001b[0m \u001b[43m                                                                       \u001b[49m\u001b[38;5;28;43mself\u001b[39;49m\u001b[38;5;241;43m.\u001b[39;49m\u001b[43mP\u001b[49m\u001b[43m,\u001b[49m\u001b[43m \u001b[49m\u001b[38;5;28;43mself\u001b[39;49m\u001b[38;5;241;43m.\u001b[39;49m\u001b[43mcluster_centers\u001b[49m\u001b[43m,\u001b[49m\n\u001b[1;32m    856\u001b[0m \u001b[43m                                                                       \u001b[49m\u001b[38;5;28;43mself\u001b[39;49m\u001b[38;5;241;43m.\u001b[39;49m\u001b[43mmdl_for_noisespace\u001b[49m\u001b[43m,\u001b[49m\n\u001b[1;32m    857\u001b[0m \u001b[43m                                                                       \u001b[49m\u001b[38;5;28;43mself\u001b[39;49m\u001b[38;5;241;43m.\u001b[39;49m\u001b[43moutliers\u001b[49m\u001b[43m,\u001b[49m\u001b[43m \u001b[49m\u001b[38;5;28;43mself\u001b[39;49m\u001b[38;5;241;43m.\u001b[39;49m\u001b[43mmax_iter\u001b[49m\u001b[43m,\u001b[49m\n\u001b[1;32m    858\u001b[0m \u001b[43m                                                                       \u001b[49m\u001b[38;5;28;43mself\u001b[39;49m\u001b[38;5;241;43m.\u001b[39;49m\u001b[43mthreshold_negative_eigenvalue\u001b[49m\u001b[43m,\u001b[49m\n\u001b[1;32m    859\u001b[0m \u001b[43m                                                                       \u001b[49m\u001b[38;5;28;43mself\u001b[39;49m\u001b[38;5;241;43m.\u001b[39;49m\u001b[43mmax_distance\u001b[49m\u001b[43m,\u001b[49m\u001b[43m \u001b[49m\u001b[38;5;28;43mself\u001b[39;49m\u001b[38;5;241;43m.\u001b[39;49m\u001b[43mprecision\u001b[49m\u001b[43m,\u001b[49m\n\u001b[1;32m    860\u001b[0m \u001b[43m                                                                       \u001b[49m\u001b[43mlocal_random_state\u001b[49m\u001b[43m,\u001b[49m\u001b[43m \u001b[49m\u001b[38;5;28;43mself\u001b[39;49m\u001b[38;5;241;43m.\u001b[39;49m\u001b[43mdebug\u001b[49m\u001b[43m)\u001b[49m\n\u001b[1;32m    861\u001b[0m     \u001b[38;5;28;01mif\u001b[39;00m cost_type \u001b[38;5;241m==\u001b[39m \u001b[38;5;124m\"\u001b[39m\u001b[38;5;124mdefault\u001b[39m\u001b[38;5;124m\"\u001b[39m:\n\u001b[1;32m    862\u001b[0m         costs \u001b[38;5;241m=\u001b[39m _get_total_cost_function(V, P, scatter_matrices)\n",
      "File \u001b[0;32m/mnt/data/stephana93dm/storage/conda_envs/alternative_clustering/lib/python3.11/site-packages/clustpy/alternative/nrkmeans.py:125\u001b[0m, in \u001b[0;36m_nrkmeans\u001b[0;34m(X, n_clusters, V, m, P, centers, mdl_for_noisespace, outliers, max_iter, threshold_negative_eigenvalue, max_distance, precision, random_state, debug)\u001b[0m\n\u001b[1;32m     75\u001b[0m \u001b[38;5;28;01mdef\u001b[39;00m \u001b[38;5;21m_nrkmeans\u001b[39m(X: np\u001b[38;5;241m.\u001b[39mndarray, n_clusters: \u001b[38;5;28mlist\u001b[39m, V: np\u001b[38;5;241m.\u001b[39mndarray, m: \u001b[38;5;28mlist\u001b[39m, P: \u001b[38;5;28mlist\u001b[39m, centers: \u001b[38;5;28mlist\u001b[39m, mdl_for_noisespace: \u001b[38;5;28mbool\u001b[39m,\n\u001b[1;32m     76\u001b[0m               outliers: \u001b[38;5;28mbool\u001b[39m, max_iter: \u001b[38;5;28mint\u001b[39m, threshold_negative_eigenvalue: \u001b[38;5;28mfloat\u001b[39m, max_distance: \u001b[38;5;28mfloat\u001b[39m,\n\u001b[1;32m     77\u001b[0m               precision: \u001b[38;5;28mfloat\u001b[39m, random_state: np\u001b[38;5;241m.\u001b[39mrandom\u001b[38;5;241m.\u001b[39mRandomState, debug: \u001b[38;5;28mbool\u001b[39m) \u001b[38;5;241m-\u001b[39m\u001b[38;5;241m>\u001b[39m (\n\u001b[1;32m     78\u001b[0m         np\u001b[38;5;241m.\u001b[39mndarray, \u001b[38;5;28mlist\u001b[39m, np\u001b[38;5;241m.\u001b[39mndarray, \u001b[38;5;28mlist\u001b[39m, \u001b[38;5;28mlist\u001b[39m, \u001b[38;5;28mlist\u001b[39m, \u001b[38;5;28mlist\u001b[39m):\n\u001b[1;32m     79\u001b[0m \u001b[38;5;250m    \u001b[39m\u001b[38;5;124;03m\"\"\"\u001b[39;00m\n\u001b[1;32m     80\u001b[0m \u001b[38;5;124;03m    Start the actual NrKmeans clustering procedure on the input data set.\u001b[39;00m\n\u001b[1;32m     81\u001b[0m \n\u001b[0;32m   (...)\u001b[0m\n\u001b[1;32m    122\u001b[0m \u001b[38;5;124;03m        The scatter matrix of each subspace\u001b[39;00m\n\u001b[1;32m    123\u001b[0m \u001b[38;5;124;03m    \"\"\"\u001b[39;00m\n\u001b[1;32m    124\u001b[0m     V, m, P, centers, subspaces, labels, scatter_matrices \u001b[38;5;241m=\u001b[39m \\\n\u001b[0;32m--> 125\u001b[0m         \u001b[43m_initialize_nrkmeans_parameters\u001b[49m\u001b[43m(\u001b[49m\n\u001b[1;32m    126\u001b[0m \u001b[43m            \u001b[49m\u001b[43mX\u001b[49m\u001b[43m,\u001b[49m\u001b[43m \u001b[49m\u001b[43mn_clusters\u001b[49m\u001b[43m,\u001b[49m\u001b[43m \u001b[49m\u001b[43mV\u001b[49m\u001b[43m,\u001b[49m\u001b[43m \u001b[49m\u001b[43mm\u001b[49m\u001b[43m,\u001b[49m\u001b[43m \u001b[49m\u001b[43mP\u001b[49m\u001b[43m,\u001b[49m\u001b[43m \u001b[49m\u001b[43mcenters\u001b[49m\u001b[43m,\u001b[49m\u001b[43m \u001b[49m\u001b[43mmdl_for_noisespace\u001b[49m\u001b[43m,\u001b[49m\u001b[43m \u001b[49m\u001b[43moutliers\u001b[49m\u001b[43m,\u001b[49m\u001b[43m \u001b[49m\u001b[43mmax_iter\u001b[49m\u001b[43m,\u001b[49m\u001b[43m \u001b[49m\u001b[43mrandom_state\u001b[49m\u001b[43m)\u001b[49m\n\u001b[1;32m    127\u001b[0m     \u001b[38;5;66;03m# Check if labels stay the same (break condition)\u001b[39;00m\n\u001b[1;32m    128\u001b[0m     old_labels \u001b[38;5;241m=\u001b[39m \u001b[38;5;28;01mNone\u001b[39;00m\n",
      "File \u001b[0;32m/mnt/data/stephana93dm/storage/conda_envs/alternative_clustering/lib/python3.11/site-packages/clustpy/alternative/nrkmeans.py:240\u001b[0m, in \u001b[0;36m_initialize_nrkmeans_parameters\u001b[0;34m(X, n_clusters, V, m, P, centers, mdl_for_noisespace, outliers, max_iter, random_state)\u001b[0m\n\u001b[1;32m    238\u001b[0m \u001b[38;5;28;01mif\u001b[39;00m V \u001b[38;5;129;01mis\u001b[39;00m \u001b[38;5;28;01mNone\u001b[39;00m:\n\u001b[1;32m    239\u001b[0m     \u001b[38;5;28;01mif\u001b[39;00m data_dimensionality \u001b[38;5;241m>\u001b[39m \u001b[38;5;241m1\u001b[39m:\n\u001b[0;32m--> 240\u001b[0m         V \u001b[38;5;241m=\u001b[39m \u001b[43mortho_group\u001b[49m\u001b[38;5;241;43m.\u001b[39;49m\u001b[43mrvs\u001b[49m\u001b[43m(\u001b[49m\u001b[43mdim\u001b[49m\u001b[38;5;241;43m=\u001b[39;49m\u001b[43mdata_dimensionality\u001b[49m\u001b[43m,\u001b[49m\n\u001b[1;32m    241\u001b[0m \u001b[43m                            \u001b[49m\u001b[43mrandom_state\u001b[49m\u001b[38;5;241;43m=\u001b[39;49m\u001b[43mrandom_state\u001b[49m\u001b[43m)\u001b[49m\n\u001b[1;32m    242\u001b[0m     \u001b[38;5;28;01melse\u001b[39;00m:\n\u001b[1;32m    243\u001b[0m         V \u001b[38;5;241m=\u001b[39m np\u001b[38;5;241m.\u001b[39mones((\u001b[38;5;241m1\u001b[39m, \u001b[38;5;241m1\u001b[39m))\n",
      "File \u001b[0;32m/mnt/data/stephana93dm/storage/conda_envs/alternative_clustering/lib/python3.11/site-packages/scipy/stats/_multivariate.py:3836\u001b[0m, in \u001b[0;36mortho_group_gen.rvs\u001b[0;34m(self, dim, size, random_state)\u001b[0m\n\u001b[1;32m   3834\u001b[0m size \u001b[38;5;241m=\u001b[39m (size,) \u001b[38;5;28;01mif\u001b[39;00m size \u001b[38;5;241m>\u001b[39m \u001b[38;5;241m1\u001b[39m \u001b[38;5;28;01melse\u001b[39;00m ()\n\u001b[1;32m   3835\u001b[0m z \u001b[38;5;241m=\u001b[39m random_state\u001b[38;5;241m.\u001b[39mnormal(size\u001b[38;5;241m=\u001b[39msize \u001b[38;5;241m+\u001b[39m (dim, dim))\n\u001b[0;32m-> 3836\u001b[0m q, r \u001b[38;5;241m=\u001b[39m \u001b[43mnp\u001b[49m\u001b[38;5;241;43m.\u001b[39;49m\u001b[43mlinalg\u001b[49m\u001b[38;5;241;43m.\u001b[39;49m\u001b[43mqr\u001b[49m\u001b[43m(\u001b[49m\u001b[43mz\u001b[49m\u001b[43m)\u001b[49m\n\u001b[1;32m   3837\u001b[0m \u001b[38;5;66;03m# The last two dimensions are the rows and columns of R matrices.\u001b[39;00m\n\u001b[1;32m   3838\u001b[0m \u001b[38;5;66;03m# Extract the diagonals. Note that this eliminates a dimension.\u001b[39;00m\n\u001b[1;32m   3839\u001b[0m d \u001b[38;5;241m=\u001b[39m r\u001b[38;5;241m.\u001b[39mdiagonal(offset\u001b[38;5;241m=\u001b[39m\u001b[38;5;241m0\u001b[39m, axis1\u001b[38;5;241m=\u001b[39m\u001b[38;5;241m-\u001b[39m\u001b[38;5;241m2\u001b[39m, axis2\u001b[38;5;241m=\u001b[39m\u001b[38;5;241m-\u001b[39m\u001b[38;5;241m1\u001b[39m)\n",
      "File \u001b[0;32m/mnt/data/stephana93dm/storage/conda_envs/alternative_clustering/lib/python3.11/site-packages/numpy/linalg/linalg.py:983\u001b[0m, in \u001b[0;36mqr\u001b[0;34m(a, mode)\u001b[0m\n\u001b[1;32m    981\u001b[0m signature \u001b[38;5;241m=\u001b[39m \u001b[38;5;124m'\u001b[39m\u001b[38;5;124mDD->D\u001b[39m\u001b[38;5;124m'\u001b[39m \u001b[38;5;28;01mif\u001b[39;00m isComplexType(t) \u001b[38;5;28;01melse\u001b[39;00m \u001b[38;5;124m'\u001b[39m\u001b[38;5;124mdd->d\u001b[39m\u001b[38;5;124m'\u001b[39m\n\u001b[1;32m    982\u001b[0m extobj \u001b[38;5;241m=\u001b[39m get_linalg_error_extobj(_raise_linalgerror_qr)\n\u001b[0;32m--> 983\u001b[0m q \u001b[38;5;241m=\u001b[39m \u001b[43mgufunc\u001b[49m\u001b[43m(\u001b[49m\u001b[43ma\u001b[49m\u001b[43m,\u001b[49m\u001b[43m \u001b[49m\u001b[43mtau\u001b[49m\u001b[43m,\u001b[49m\u001b[43m \u001b[49m\u001b[43msignature\u001b[49m\u001b[38;5;241;43m=\u001b[39;49m\u001b[43msignature\u001b[49m\u001b[43m,\u001b[49m\u001b[43m \u001b[49m\u001b[43mextobj\u001b[49m\u001b[38;5;241;43m=\u001b[39;49m\u001b[43mextobj\u001b[49m\u001b[43m)\u001b[49m\n\u001b[1;32m    984\u001b[0m r \u001b[38;5;241m=\u001b[39m triu(a[\u001b[38;5;241m.\u001b[39m\u001b[38;5;241m.\u001b[39m\u001b[38;5;241m.\u001b[39m, :mc, :])\n\u001b[1;32m    986\u001b[0m q \u001b[38;5;241m=\u001b[39m q\u001b[38;5;241m.\u001b[39mastype(result_t, copy\u001b[38;5;241m=\u001b[39m\u001b[38;5;28;01mFalse\u001b[39;00m)\n",
      "\u001b[0;31mKeyboardInterrupt\u001b[0m: "
     ]
    }
   ],
   "source": [
    "from clustpy.alternative import NrKmeans\n",
    "\n",
    "n_clusters_per_category = dset.get_n_clusters_per_category()\n",
    "n_clusters = list(n_clusters_per_category.values())\n",
    "\n",
    "nrkmeans = NrKmeans(n_clusters=n_clusters, n_init=1, max_iter=300, random_state=42).fit(embeddings)\n"
   ]
  },
  {
   "cell_type": "code",
   "execution_count": 13,
   "metadata": {},
   "outputs": [],
   "source": [
    "out = nrkmeans.labels_"
   ]
  },
  {
   "cell_type": "code",
   "execution_count": 59,
   "metadata": {},
   "outputs": [
    {
     "data": {
      "text/plain": [
       "array([[1, 4],\n",
       "       [2, 5],\n",
       "       [3, 6]])"
      ]
     },
     "execution_count": 59,
     "metadata": {},
     "output_type": "execute_result"
    }
   ],
   "source": [
    "a = np.array([1, 2, 3])\n",
    "b = np.array([4, 5, 6])\n",
    "\n",
    "np.array([a, b]).T"
   ]
  },
  {
   "cell_type": "code",
   "execution_count": 60,
   "metadata": {},
   "outputs": [
    {
     "name": "stdout",
     "output_type": "stream",
     "text": [
      "400 (400,)\n",
      "{'AMI': 0.5931192987904808, 'NMI': 0.595000111495611, 'ARI': 0.5242472112325053, 'ACC': 0.715}\n",
      "400 (400,)\n",
      "{'AMI': -0.0007779470133809954, 'NMI': 0.0011071493380167882, 'ARI': 0.0007992170409365663, 'ACC': 0.53}\n",
      "400 (400,)\n",
      "{'AMI': 0.0569861961977826, 'NMI': 0.07397841288703175, 'ARI': 0.03481931069903229, 'ACC': 0.265}\n"
     ]
    },
    {
     "data": {
      "text/plain": [
       "array([[1, 0, 1],\n",
       "       [2, 0, 0],\n",
       "       [1, 0, 0],\n",
       "       ...,\n",
       "       [2, 1, 5],\n",
       "       [2, 1, 4],\n",
       "       [0, 0, 0]])"
      ]
     },
     "execution_count": 60,
     "metadata": {},
     "output_type": "execute_result"
    }
   ],
   "source": [
    "from alternative_image_clustering.metrics import get_metrics\n",
    "\n",
    "labels_true = []\n",
    "for idx, category in enumerate(dset.get_categories()):\n",
    "    labels = dset.get_clustering_labels(category)\n",
    "    labels_true.append(labels)\n",
    "    print(len(labels), out[:, idx].shape)\n",
    "    metrics = get_metrics(labels, out[:, idx])\n",
    "    print(metrics)\n",
    "\n",
    "labels_true = np.array(labels_true).T\n",
    "labels_true"
   ]
  },
  {
   "cell_type": "code",
   "execution_count": 63,
   "metadata": {},
   "outputs": [
    {
     "data": {
      "text/plain": [
       "array([[ True,  True,  True],\n",
       "       [ True,  True,  True],\n",
       "       [ True,  True,  True],\n",
       "       ...,\n",
       "       [ True,  True,  True],\n",
       "       [ True,  True,  True],\n",
       "       [ True,  True,  True]])"
      ]
     },
     "execution_count": 63,
     "metadata": {},
     "output_type": "execute_result"
    }
   ],
   "source": [
    "dset.get_full_clustering_labels() == labels_true"
   ]
  },
  {
   "cell_type": "code",
   "execution_count": 15,
   "metadata": {},
   "outputs": [
    {
     "data": {
      "text/plain": [
       "(400, 3)"
      ]
     },
     "execution_count": 15,
     "metadata": {},
     "output_type": "execute_result"
    }
   ],
   "source": [
    "labels_true.shape"
   ]
  },
  {
   "cell_type": "code",
   "execution_count": 49,
   "metadata": {},
   "outputs": [
    {
     "data": {
      "text/plain": [
       "array([[0.59500011, 0.73840737, 0.76764658],\n",
       "       [0.00109346, 0.00110715, 0.13274928],\n",
       "       [0.03566391, 0.00474684, 0.07397841]])"
      ]
     },
     "execution_count": 49,
     "metadata": {},
     "output_type": "execute_result"
    }
   ],
   "source": [
    "from clustpy.metrics.multipe_labelings_scoring import MultipleLabelingsConfusionMatrix\n",
    "from sklearn.metrics import normalized_mutual_info_score, adjusted_mutual_info_score\n",
    "from clustpy.metrics.clustering_metrics import unsupervised_clustering_accuracy\n",
    "\n",
    "# confusion matrix dimensions: labels_true.shape[1], labels_pred.shape[1]\n",
    "matrix = MultipleLabelingsConfusionMatrix(labels_true=labels_true, labels_pred=out, metric=normalized_mutual_info_score)\n",
    "matrix.confusion_matrix\n",
    "\n",
    "# if matrix.confusion_matrix[0,0]+ matrix.confusion_matrix[1,1] < matrix.confusion_matrix[0,1]+ matrix.confusion_matrix[1,0]:\n",
    "    "
   ]
  },
  {
   "cell_type": "code",
   "execution_count": 36,
   "metadata": {},
   "outputs": [
    {
     "data": {
      "text/plain": [
       "0.5931"
      ]
     },
     "execution_count": 36,
     "metadata": {},
     "output_type": "execute_result"
    }
   ],
   "source": [
    "5.931e-01"
   ]
  },
  {
   "cell_type": "code",
   "execution_count": 46,
   "metadata": {},
   "outputs": [
    {
     "data": {
      "text/plain": [
       "array([0.76764658, 0.13274928, 0.07397841])"
      ]
     },
     "execution_count": 46,
     "metadata": {},
     "output_type": "execute_result"
    }
   ],
   "source": [
    "matrix.confusion_matrix.max(axis=1)\n"
   ]
  },
  {
   "cell_type": "code",
   "execution_count": 47,
   "metadata": {},
   "outputs": [
    {
     "data": {
      "text/plain": [
       "array([0.73840737, 0.13274928, 0.03566391])"
      ]
     },
     "execution_count": 47,
     "metadata": {},
     "output_type": "execute_result"
    }
   ],
   "source": [
    "matrix.rearrange().diagonal()"
   ]
  },
  {
   "cell_type": "code",
   "execution_count": 48,
   "metadata": {},
   "outputs": [
    {
     "data": {
      "text/plain": [
       "{'shape': {'AMI': 0.7376494269198355,\n",
       "  'NMI': 0.7384073699321148,\n",
       "  'ARI': 0.5807731815001658,\n",
       "  'ACC': 0.715},\n",
       " 'material': {'AMI': 0.12826463150509856,\n",
       "  'NMI': 0.13274927819718388,\n",
       "  'ARI': 0.07622175411674632,\n",
       "  'ACC': 0.53},\n",
       " 'colour': {'AMI': 0.027081005735636765,\n",
       "  'NMI': 0.035663905970405745,\n",
       "  'ARI': 0.017892506603905973,\n",
       "  'ACC': 0.265}}"
      ]
     },
     "execution_count": 48,
     "metadata": {},
     "output_type": "execute_result"
    }
   ],
   "source": [
    "from alternative_image_clustering.metrics import get_multiple_labeling_metrics\n",
    "\n",
    "labels_true = dset.get_full_clustering_labels()\n",
    "get_multiple_labeling_metrics(labels_true, out, dset.get_categories())"
   ]
  },
  {
   "cell_type": "code",
   "execution_count": null,
   "metadata": {},
   "outputs": [],
   "source": []
  },
  {
   "cell_type": "code",
   "execution_count": null,
   "metadata": {},
   "outputs": [],
   "source": [
    "# goal find i_1, .., i_n s.th. sum(matrix[1, i_1], .., matrix[1, i_n]) is maximized\n",
    "# and i_1, .., i_n are unique"
   ]
  },
  {
   "cell_type": "code",
   "execution_count": 71,
   "metadata": {},
   "outputs": [
    {
     "data": {
      "text/plain": [
       "{'shape': 0.3326, 'material': 0.9528, 'colour': 0.7593}"
      ]
     },
     "execution_count": 71,
     "metadata": {},
     "output_type": "execute_result"
    }
   ],
   "source": [
    "from itertools import permutations\n",
    "\n",
    "from sklearn.metrics import confusion_matrix\n",
    "\n",
    "\n",
    "def get_best_assignment_metrics(matrix, categories):\n",
    "    all_permutations = list(permutations(range(len(categories)), len(categories)))\n",
    "\n",
    "    scores = {}\n",
    "    for permutation in all_permutations:\n",
    "        score = 0\n",
    "        for i in range(3):\n",
    "            score += matrix.confusion_matrix[permutation[i], i]\n",
    "        scores[permutation] = score\n",
    "\n",
    "    best_permutation = max(scores, key=scores.get)\n",
    "\n",
    "    return {category: matrix.confusion_matrix[best_permutation[idx], idx] for idx, category in enumerate(categories)}\n",
    "\n",
    "\n",
    "categories = dset.get_categories()\n",
    "get_best_assignment_metrics(matrix, categories)\n",
    "\n"
   ]
  },
  {
   "cell_type": "code",
   "execution_count": 56,
   "metadata": {},
   "outputs": [
    {
     "data": {
      "text/plain": [
       "(0, 1, 2)"
      ]
     },
     "execution_count": 56,
     "metadata": {},
     "output_type": "execute_result"
    }
   ],
   "source": [
    "all_permutations[0]"
   ]
  },
  {
   "cell_type": "code",
   "execution_count": 58,
   "metadata": {},
   "outputs": [
    {
     "data": {
      "text/plain": [
       "0.3747"
      ]
     },
     "execution_count": 58,
     "metadata": {},
     "output_type": "execute_result"
    }
   ],
   "source": [
    "matrix.confusion_matrix[0,0]  + matrix.confusion_matrix[1,1] + matrix.confusion_matrix[2,2]\n"
   ]
  },
  {
   "cell_type": "code",
   "execution_count": 60,
   "metadata": {},
   "outputs": [
    {
     "data": {
      "text/plain": [
       "0.3719"
      ]
     },
     "execution_count": 60,
     "metadata": {},
     "output_type": "execute_result"
    }
   ],
   "source": [
    "matrix.confusion_matrix[0,1] "
   ]
  },
  {
   "cell_type": "code",
   "execution_count": 49,
   "metadata": {},
   "outputs": [
    {
     "data": {
      "text/plain": [
       "array([[0.3747, 0.3719, 0.7593],\n",
       "       [0.4513, 0.9528, 0.3276],\n",
       "       [0.3326, 0.1982, 0.2354]])"
      ]
     },
     "execution_count": 49,
     "metadata": {},
     "output_type": "execute_result"
    }
   ],
   "source": [
    "matrix.confusion_matrix"
   ]
  },
  {
   "cell_type": "code",
   "execution_count": null,
   "metadata": {},
   "outputs": [],
   "source": []
  },
  {
   "cell_type": "code",
   "execution_count": 43,
   "metadata": {},
   "outputs": [
    {
     "data": {
      "text/plain": [
       "{'AMI': 0.4103981332427923,\n",
       " 'ARI': 0.2699533462935888,\n",
       " 'ACC': 0.49361614497528833}"
      ]
     },
     "execution_count": 43,
     "metadata": {},
     "output_type": "execute_result"
    }
   ],
   "source": [
    "from alternative_image_clustering.metrics import get_metrics\n",
    "\n",
    "metrics = get_metrics(labels, labels_pred)\n",
    "metrics"
   ]
  }
 ],
 "metadata": {
  "kernelspec": {
   "display_name": "alternative_clustering",
   "language": "python",
   "name": "python3"
  },
  "language_info": {
   "codemirror_mode": {
    "name": "ipython",
    "version": 3
   },
   "file_extension": ".py",
   "mimetype": "text/x-python",
   "name": "python",
   "nbconvert_exporter": "python",
   "pygments_lexer": "ipython3",
   "version": "3.11.8"
  }
 },
 "nbformat": 4,
 "nbformat_minor": 2
}
