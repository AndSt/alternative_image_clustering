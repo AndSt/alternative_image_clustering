{
 "cells": [
  {
   "cell_type": "code",
   "execution_count": 2,
   "metadata": {},
   "outputs": [],
   "source": [
    "%load_ext autoreload\n",
    "%autoreload 2\n",
    "\n",
    "import sys\n",
    "import os\n",
    "\n",
    "import pandas as pd\n",
    "import joblib\n",
    "import json\n",
    "import numpy as np\n",
    "\n",
    "sys.path.append(\"..\")"
   ]
  },
  {
   "cell_type": "code",
   "execution_count": 14,
   "metadata": {},
   "outputs": [],
   "source": [
    "from alternative_image_clustering.data.dataset import Dataset\n",
    "\n",
    "datasets = [\n",
    "    \"cards\",\n",
    "    \"fruits360\",\n",
    "    \"gtsrb\",\n",
    "    \"nrobjects\"\n",
    "]\n",
    "\n",
    "base_dir = \"/mnt/data/stephana93dm/storage/projects/alternative_image_clustering\"\n",
    "dset = Dataset(\n",
    "    base_dir=base_dir,\n",
    "    dataset_name=\"nrobjects\",\n",
    "    embedding_type= \"sbert_concat\"\n",
    ")"
   ]
  },
  {
   "cell_type": "code",
   "execution_count": 25,
   "metadata": {},
   "outputs": [],
   "source": [
    "from alternative_image_clustering.experiments.run_all import run_image_experiments, run_baseline_kmeans\n",
    "\n",
    "\n",
    "res = run_image_experiments(dataset=\"nrobjects\", base_dir=base_dir)"
   ]
  },
  {
   "cell_type": "code",
   "execution_count": 26,
   "metadata": {},
   "outputs": [
    {
     "data": {
      "text/plain": [
       "{'kmeans': {'shape': {'inertia': 511170.6219745354,\n",
       "   'labels': array([2, 1, 2, ..., 0, 2, 2], dtype=int32),\n",
       "   'random_state': 32,\n",
       "   'metrics': {'AMI': 0.9622259879359462,\n",
       "    'NMI': 0.9622334155739896,\n",
       "    'ARI': 0.952824320754351,\n",
       "    'ACC': 0.9666}},\n",
       "  'material': {'inertia': 637519.4204628995,\n",
       "   'labels': array([0, 1, 0, ..., 0, 0, 0], dtype=int32),\n",
       "   'random_state': 32,\n",
       "   'metrics': {'AMI': 1.3888329333587243e-06,\n",
       "    'NMI': 7.672896847426471e-05,\n",
       "    'ARI': 5.062455685603226e-05,\n",
       "    'ACC': 0.50527}},\n",
       "  'colour': {'inertia': 409588.79298877175,\n",
       "   'labels': array([1, 4, 1, ..., 0, 1, 1], dtype=int32),\n",
       "   'random_state': 835,\n",
       "   'metrics': {'AMI': 0.21732158509976846,\n",
       "    'NMI': 0.21788569218535786,\n",
       "    'ARI': 0.09709911809072401,\n",
       "    'ACC': 0.30744000000000005}}},\n",
       " 'nrkmeans': {}}"
      ]
     },
     "execution_count": 26,
     "metadata": {},
     "output_type": "execute_result"
    }
   ],
   "source": [
    "res"
   ]
  },
  {
   "cell_type": "code",
   "execution_count": 29,
   "metadata": {},
   "outputs": [
    {
     "name": "stdout",
     "output_type": "stream",
     "text": [
      "Running kmeans on full embeddings for each category\n",
      "Running kmeans for each prompt\n",
      "(10000, 1024) 10000\n",
      "(10000, 1024) 10000\n",
      "(10000, 1024) 10000\n",
      "(10000, 1024) 10000\n",
      "(10000, 1024) 10000\n",
      "(10000, 1024) 10000\n",
      "(10000, 1024) 10000\n",
      "(10000, 1024) 10000\n",
      "(10000, 1024) 10000\n",
      "(10000, 1024) 10000\n",
      "(10000, 1024) 10000\n",
      "(10000, 1024) 10000\n",
      "(10000, 1024) 10000\n",
      "(10000, 1024) 10000\n",
      "(10000, 1024) 10000\n",
      "(10000, 1024) 10000\n",
      "(10000, 1024) 10000\n",
      "(10000, 1024) 10000\n",
      "Transforming to average and max. performance\n",
      "Computing per category performance\n"
     ]
    }
   ],
   "source": [
    "per_prompt_performance = run_baseline_kmeans(base_dir=base_dir, dataset=\"nrobjects\", embedding_type=\"sbert_concat\")"
   ]
  },
  {
   "cell_type": "code",
   "execution_count": 31,
   "metadata": {},
   "outputs": [
    {
     "data": {
      "text/plain": [
       "({'material': {'AMI': 0.15024724754384808,\n",
       "   'NMI': 0.15031358142120102,\n",
       "   'ARI': 0.14834249699605492,\n",
       "   'ACC': 0.6355733333333334},\n",
       "  'shape': {'AMI': 0.7936399029852245,\n",
       "   'NMI': 0.7936781735886144,\n",
       "   'ARI': 0.7585725131193963,\n",
       "   'ACC': 0.8676999999999998},\n",
       "  'colour': {'AMI': 0.8828091066115014,\n",
       "   'NMI': 0.8828920435107835,\n",
       "   'ARI': 0.8122647237808498,\n",
       "   'ACC': 0.880875}},\n",
       " {'material': {'AMI': 0.4055749454436882,\n",
       "   'NMI': 0.40562405138635793,\n",
       "   'ARI': 0.3721448098784884,\n",
       "   'ACC': 0.7770500000000001},\n",
       "  'shape': {'AMI': 0.9991697939094195,\n",
       "   'NMI': 0.9991699450942368,\n",
       "   'ARI': 0.9996979154804484,\n",
       "   'ACC': 0.9999},\n",
       "  'colour': {'AMI': 0.9515948288749121,\n",
       "   'NMI': 0.9516287661939875,\n",
       "   'ARI': 0.9269009680544787,\n",
       "   'ACC': 0.9621500000000001}},\n",
       " {'shape': {'inertia': 448.8343811035156,\n",
       "   'labels': array([1, 2, 1, ..., 0, 1, 1], dtype=int32),\n",
       "   'random_state': 32,\n",
       "   'metrics': {'AMI': 1.0, 'NMI': 1.0, 'ARI': 1.0, 'ACC': 1.0}},\n",
       "  'material': {'inertia': 562.3531494140625,\n",
       "   'labels': array([1, 1, 1, ..., 0, 1, 1], dtype=int32),\n",
       "   'random_state': 406,\n",
       "   'metrics': {'AMI': 0.0006146686630708821,\n",
       "    'NMI': 0.0006902938319909058,\n",
       "    'ARI': 0.0006224738500543275,\n",
       "    'ACC': 0.5127}},\n",
       "  'colour': {'inertia': 286.4967041015625,\n",
       "   'labels': array([5, 1, 1, ..., 5, 3, 5], dtype=int32),\n",
       "   'random_state': 302,\n",
       "   'metrics': {'AMI': 0.8872797532113378,\n",
       "    'NMI': 0.8873605314878624,\n",
       "    'ARI': 0.7967940942178766,\n",
       "    'ACC': 0.84748}}},\n",
       " {'shape': {'inertia': 502.4396057128906,\n",
       "   'labels': array([2, 0, 2, ..., 1, 2, 2], dtype=int32),\n",
       "   'random_state': 930,\n",
       "   'metrics': {'AMI': 0.9230826073730857,\n",
       "    'NMI': 0.9230973663091661,\n",
       "    'ARI': 0.8951464477815361,\n",
       "    'ACC': 0.92125}},\n",
       "  'material': {'inertia': 603.3859252929688,\n",
       "   'labels': array([1, 1, 1, ..., 0, 1, 1], dtype=int32),\n",
       "   'random_state': 32,\n",
       "   'metrics': {'AMI': 0.00016805226696560346,\n",
       "    'NMI': 0.00024320962954344294,\n",
       "    'ARI': 0.0002893238497947943,\n",
       "    'ACC': 0.50984}},\n",
       "  'colour': {'inertia': 399.2535095214844,\n",
       "   'labels': array([0, 5, 3, ..., 4, 3, 3], dtype=int32),\n",
       "   'random_state': 360,\n",
       "   'metrics': {'AMI': 0.04798828139526115,\n",
       "    'NMI': 0.048666037828466645,\n",
       "    'ARI': 0.023916974914948205,\n",
       "    'ACC': 0.23567}}})"
      ]
     },
     "execution_count": 31,
     "metadata": {},
     "output_type": "execute_result"
    }
   ],
   "source": [
    "per_prompt_performance"
   ]
  },
  {
   "cell_type": "code",
   "execution_count": 20,
   "metadata": {},
   "outputs": [
    {
     "data": {
      "text/plain": [
       "({'type': {'AMI': 0.5553747931982943,\n",
       "   'NMI': 0.5555992729503831,\n",
       "   'ARI': 0.4974141510675672,\n",
       "   'ACC': 0.6770089285714286},\n",
       "  'colour': {'AMI': 0.8274598604992264,\n",
       "   'NMI': 0.8274784324112351,\n",
       "   'ARI': 0.8850765465359106,\n",
       "   'ACC': 0.9703621031746031}},\n",
       " {'type': {'AMI': 0.6100758125048855,\n",
       "   'NMI': 0.6102733294253279,\n",
       "   'ARI': 0.5648056805302125,\n",
       "   'ACC': 0.7426488095238095},\n",
       "  'colour': {'AMI': 0.8530328091044186,\n",
       "   'NMI': 0.8530486245666111,\n",
       "   'ARI': 0.9104206484895829,\n",
       "   'ACC': 0.9770833333333331}},\n",
       " {'type': {'inertia': 262.6256408691406,\n",
       "   'labels': array([1, 1, 0, ..., 2, 1, 1], dtype=int32),\n",
       "   'random_state': 732,\n",
       "   'metrics': {'AMI': 0.6256338754262021,\n",
       "    'NMI': 0.625818726052952,\n",
       "    'ARI': 0.5708905207805037,\n",
       "    'ACC': 0.7617857142857143}},\n",
       "  'colour': {'inertia': 124.3109130859375,\n",
       "   'labels': array([0, 0, 1, ..., 1, 0, 0], dtype=int32),\n",
       "   'random_state': 32,\n",
       "   'metrics': {'AMI': 0.8448822154877471,\n",
       "    'NMI': 0.8448989064584758,\n",
       "    'ARI': 0.8996596069368804,\n",
       "    'ACC': 0.9742559523809524}}},\n",
       " {'type': {'inertia': 222.3357696533203,\n",
       "   'labels': array([1, 1, 0, ..., 3, 1, 1], dtype=int32),\n",
       "   'random_state': 835,\n",
       "   'metrics': {'AMI': 0.6489298391491257,\n",
       "    'NMI': 0.6491060286243293,\n",
       "    'ARI': 0.5861855165500872,\n",
       "    'ACC': 0.7330208333333333}},\n",
       "  'colour': {'inertia': 354.0880432128906,\n",
       "   'labels': array([0, 0, 1, ..., 1, 0, 0], dtype=int32),\n",
       "   'random_state': 302,\n",
       "   'metrics': {'AMI': 0.631977049711787,\n",
       "    'NMI': 0.6320200570628004,\n",
       "    'ARI': 0.5985404559231358,\n",
       "    'ACC': 0.8666666666666666}}})"
      ]
     },
     "execution_count": 20,
     "metadata": {},
     "output_type": "execute_result"
    }
   ],
   "source": [
    "per_prompt_performance"
   ]
  },
  {
   "cell_type": "code",
   "execution_count": 22,
   "metadata": {},
   "outputs": [],
   "source": [
    "embeddings = dset.get_embeddings()"
   ]
  },
  {
   "cell_type": "code",
   "execution_count": 23,
   "metadata": {},
   "outputs": [],
   "source": [
    "from clustpy.alternative import NrKmeans\n",
    "\n",
    "n_clusters_per_category = dset.get_n_clusters()\n",
    "n_clusters = list(n_clusters_per_category.values())\n",
    "\n",
    "nrkmeans = NrKmeans(n_clusters=n_clusters, n_init=1, max_iter=300, random_state=42)\n"
   ]
  },
  {
   "cell_type": "code",
   "execution_count": 24,
   "metadata": {},
   "outputs": [],
   "source": [
    "out = nrkmeans.fit_predict(embeddings)"
   ]
  },
  {
   "cell_type": "code",
   "execution_count": 26,
   "metadata": {},
   "outputs": [
    {
     "name": "stdout",
     "output_type": "stream",
     "text": [
      "10000 (10000,)\n",
      "{'AMI': 0.006485863147874169, 'NMI': 0.006679806680177215, 'ARI': 0.004044215570628411, 'ACC': 0.3747}\n",
      "10000 (10000,)\n",
      "{'AMI': 0.7462374356602399, 'NMI': 0.7462557885614954, 'ARI': 0.8200933645453119, 'ACC': 0.9528}\n",
      "10000 (10000,)\n",
      "{'AMI': 0.06393004182410147, 'NMI': 0.06461886547777393, 'ARI': 0.021499850928495413, 'ACC': 0.2354}\n"
     ]
    }
   ],
   "source": [
    "from alternative_image_clustering.metrics import get_metrics\n",
    "\n",
    "labels_true = []\n",
    "for idx, category in enumerate(dset.get_categories()):\n",
    "    labels = dset.get_clustering_labels(category)\n",
    "    labels_true.append(labels)\n",
    "    print(len(labels), out[:, idx].shape)\n",
    "    metrics = get_metrics(labels, out[:, idx])\n",
    "    print(metrics)\n",
    "\n",
    "labels_true = np.array(labels_true).T\n",
    "# labels_true"
   ]
  },
  {
   "cell_type": "code",
   "execution_count": null,
   "metadata": {},
   "outputs": [],
   "source": []
  },
  {
   "cell_type": "code",
   "execution_count": null,
   "metadata": {},
   "outputs": [
    {
     "data": {
      "text/plain": [
       "(8029, 2)"
      ]
     },
     "execution_count": 137,
     "metadata": {},
     "output_type": "execute_result"
    }
   ],
   "source": [
    "labels_true.shape"
   ]
  },
  {
   "cell_type": "code",
   "execution_count": 67,
   "metadata": {},
   "outputs": [
    {
     "data": {
      "text/plain": [
       "array([[0.3747, 0.3719, 0.7593],\n",
       "       [0.4513, 0.9528, 0.3276],\n",
       "       [0.3326, 0.1982, 0.2354]])"
      ]
     },
     "execution_count": 67,
     "metadata": {},
     "output_type": "execute_result"
    }
   ],
   "source": [
    "from clustpy.metrics.multipe_labelings_scoring import MultipleLabelingsConfusionMatrix\n",
    "from sklearn.metrics import normalized_mutual_info_score, adjusted_mutual_info_score\n",
    "from clustpy.metrics.clustering_metrics import unsupervised_clustering_accuracy\n",
    "\n",
    "# confusion matrix dimensions: labels_true.shape[1], labels_pred.shape[1]\n",
    "matrix = MultipleLabelingsConfusionMatrix(labels_true=labels_true, labels_pred=out, metric=unsupervised_clustering_accuracy)\n",
    "matrix.confusion_matrix\n",
    "\n",
    "# if matrix.confusion_matrix[0,0]+ matrix.confusion_matrix[1,1] < matrix.confusion_matrix[0,1]+ matrix.confusion_matrix[1,0]:\n",
    "    "
   ]
  },
  {
   "cell_type": "code",
   "execution_count": 75,
   "metadata": {},
   "outputs": [
    {
     "data": {
      "text/plain": [
       "{'shape': {'AMI': 0.18643756929169494,\n",
       "  'NMI': 0.1867343905035027,\n",
       "  'ARI': 0.07891234459163263,\n",
       "  'ACC': 0.3326},\n",
       " 'material': {'AMI': 0.7462374356602399,\n",
       "  'NMI': 0.7462557885614954,\n",
       "  'ARI': 0.8200933645453119,\n",
       "  'ACC': 0.9528},\n",
       " 'colour': {'AMI': 0.810803364238957,\n",
       "  'NMI': 0.8108732508491467,\n",
       "  'ARI': 0.7216575915472474,\n",
       "  'ACC': 0.7593}}"
      ]
     },
     "execution_count": 75,
     "metadata": {},
     "output_type": "execute_result"
    }
   ],
   "source": [
    "from alternative_image_clustering.metrics import get_multiple_labeling_metrics\n",
    "\n",
    "\n",
    "get_multiple_labeling_metrics(labels_true, out, dset.get_categories())"
   ]
  },
  {
   "cell_type": "code",
   "execution_count": null,
   "metadata": {},
   "outputs": [],
   "source": []
  },
  {
   "cell_type": "code",
   "execution_count": null,
   "metadata": {},
   "outputs": [],
   "source": [
    "# goal find i_1, .., i_n s.th. sum(matrix[1, i_1], .., matrix[1, i_n]) is maximized\n",
    "# and i_1, .., i_n are unique"
   ]
  },
  {
   "cell_type": "code",
   "execution_count": 71,
   "metadata": {},
   "outputs": [
    {
     "data": {
      "text/plain": [
       "{'shape': 0.3326, 'material': 0.9528, 'colour': 0.7593}"
      ]
     },
     "execution_count": 71,
     "metadata": {},
     "output_type": "execute_result"
    }
   ],
   "source": [
    "from itertools import permutations\n",
    "\n",
    "from sklearn.metrics import confusion_matrix\n",
    "\n",
    "\n",
    "def get_best_assignment_metrics(matrix, categories):\n",
    "    all_permutations = list(permutations(range(len(categories)), len(categories)))\n",
    "\n",
    "    scores = {}\n",
    "    for permutation in all_permutations:\n",
    "        score = 0\n",
    "        for i in range(3):\n",
    "            score += matrix.confusion_matrix[permutation[i], i]\n",
    "        scores[permutation] = score\n",
    "\n",
    "    best_permutation = max(scores, key=scores.get)\n",
    "\n",
    "    return {category: matrix.confusion_matrix[best_permutation[idx], idx] for idx, category in enumerate(categories)}\n",
    "\n",
    "\n",
    "categories = dset.get_categories()\n",
    "get_best_assignment_metrics(matrix, categories)\n",
    "\n"
   ]
  },
  {
   "cell_type": "code",
   "execution_count": 56,
   "metadata": {},
   "outputs": [
    {
     "data": {
      "text/plain": [
       "(0, 1, 2)"
      ]
     },
     "execution_count": 56,
     "metadata": {},
     "output_type": "execute_result"
    }
   ],
   "source": [
    "all_permutations[0]"
   ]
  },
  {
   "cell_type": "code",
   "execution_count": 58,
   "metadata": {},
   "outputs": [
    {
     "data": {
      "text/plain": [
       "0.3747"
      ]
     },
     "execution_count": 58,
     "metadata": {},
     "output_type": "execute_result"
    }
   ],
   "source": [
    "matrix.confusion_matrix[0,0]  + matrix.confusion_matrix[1,1] + matrix.confusion_matrix[2,2]\n"
   ]
  },
  {
   "cell_type": "code",
   "execution_count": 60,
   "metadata": {},
   "outputs": [
    {
     "data": {
      "text/plain": [
       "0.3719"
      ]
     },
     "execution_count": 60,
     "metadata": {},
     "output_type": "execute_result"
    }
   ],
   "source": [
    "matrix.confusion_matrix[0,1] "
   ]
  },
  {
   "cell_type": "code",
   "execution_count": 49,
   "metadata": {},
   "outputs": [
    {
     "data": {
      "text/plain": [
       "array([[0.3747, 0.3719, 0.7593],\n",
       "       [0.4513, 0.9528, 0.3276],\n",
       "       [0.3326, 0.1982, 0.2354]])"
      ]
     },
     "execution_count": 49,
     "metadata": {},
     "output_type": "execute_result"
    }
   ],
   "source": [
    "matrix.confusion_matrix"
   ]
  },
  {
   "cell_type": "code",
   "execution_count": null,
   "metadata": {},
   "outputs": [],
   "source": []
  },
  {
   "cell_type": "code",
   "execution_count": 43,
   "metadata": {},
   "outputs": [
    {
     "data": {
      "text/plain": [
       "{'AMI': 0.4103981332427923,\n",
       " 'ARI': 0.2699533462935888,\n",
       " 'ACC': 0.49361614497528833}"
      ]
     },
     "execution_count": 43,
     "metadata": {},
     "output_type": "execute_result"
    }
   ],
   "source": [
    "from alternative_image_clustering.metrics import get_metrics\n",
    "\n",
    "metrics = get_metrics(labels, labels_pred)\n",
    "metrics"
   ]
  }
 ],
 "metadata": {
  "kernelspec": {
   "display_name": "alternative_clustering",
   "language": "python",
   "name": "python3"
  },
  "language_info": {
   "codemirror_mode": {
    "name": "ipython",
    "version": 3
   },
   "file_extension": ".py",
   "mimetype": "text/x-python",
   "name": "python",
   "nbconvert_exporter": "python",
   "pygments_lexer": "ipython3",
   "version": "3.11.8"
  }
 },
 "nbformat": 4,
 "nbformat_minor": 2
}
