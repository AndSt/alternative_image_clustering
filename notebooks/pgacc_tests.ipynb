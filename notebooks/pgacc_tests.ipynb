{
 "cells": [
  {
   "cell_type": "code",
   "execution_count": 1,
   "metadata": {},
   "outputs": [],
   "source": [
    "%load_ext autoreload\n",
    "%autoreload 2\n",
    "\n",
    "import sys\n",
    "import os\n",
    "\n",
    "import pandas as pd\n",
    "import joblib\n",
    "import json\n",
    "import numpy as np\n",
    "import matplotlib.pyplot as plt\n",
    "\n",
    "sys.path.append(\"..\")"
   ]
  },
  {
   "cell_type": "code",
   "execution_count": 106,
   "metadata": {},
   "outputs": [],
   "source": [
    "from alternative_image_clustering.data.dataset import Dataset\n",
    "\n",
    "\n",
    "datasets = [\n",
    "    \"cards\",\n",
    "    \"fruits360\",\n",
    "    \"gtsrb\",\n",
    "    \"nrobjects\"\n",
    "]\n",
    "\n",
    "base_dir = \"/mnt/data/stephana93dm/storage/projects/alternative_image_clustering\"\n",
    "img_dataset = Dataset(\n",
    "    base_dir=base_dir,\n",
    "    dataset_name=\"fruit360\",\n",
    "    embedding_type= \"image\"\n",
    ")\n",
    "dataset = Dataset(\n",
    "    base_dir=base_dir,\n",
    "    dataset_name=\"gtsrb\",\n",
    "    embedding_type= \"sbert_concat\"\n",
    ")"
   ]
  },
  {
   "cell_type": "code",
   "execution_count": 84,
   "metadata": {},
   "outputs": [
    {
     "name": "stdout",
     "output_type": "stream",
     "text": [
      "Start initial\n",
      "Start linkage\n",
      "Adaption\n"
     ]
    },
    {
     "data": {
      "application/vnd.jupyter.widget-view+json": {
       "model_id": "d6329f3ac845426d86a04b38316fe61b",
       "version_major": 2,
       "version_minor": 0
      },
      "text/plain": [
       "Batches:   0%|          | 0/251 [00:00<?, ?it/s]"
      ]
     },
     "metadata": {},
     "output_type": "display_data"
    }
   ],
   "source": [
    "from alternative_image_clustering.pgacc import run_pgacc\n",
    "\n",
    "l = run_pgacc(\n",
    "    base_dir= \"/mnt/data/stephana93dm/storage/projects/alternative_image_clustering\",\n",
    "    dataset_name=\"cards\",\n",
    "    embedding_type= \"sbert_concat\",\n",
    "    aggregation_strategy= \"selection\",\n",
    "    threshhold= 0.55,\n",
    "    similarity_metric=\"ami\",\n",
    "    random_state= 45\n",
    ")"
   ]
  },
  {
   "cell_type": "code",
   "execution_count": null,
   "metadata": {},
   "outputs": [
    {
     "data": {
      "text/plain": [
       "[array([0, 1, 3]), array([ 4,  6,  7,  8,  9, 10, 11])]"
      ]
     },
     "execution_count": 81,
     "metadata": {},
     "output_type": "execute_result"
    }
   ],
   "source": [
    "l[\"splitting\"]"
   ]
  },
  {
   "cell_type": "code",
   "execution_count": null,
   "metadata": {},
   "outputs": [
    {
     "data": {
      "text/plain": [
       "{'aggregation_strategy': 'selection',\n",
       " 'threshold': 0.55,\n",
       " 'Z_matrix': array([[ 8.        , 11.        ,  0.18989298,  2.        ],\n",
       "        [ 9.        , 12.        ,  0.26805845,  3.        ],\n",
       "        [ 7.        , 13.        ,  0.29339665,  4.        ],\n",
       "        [10.        , 14.        ,  0.36441788,  5.        ],\n",
       "        [ 0.        ,  1.        ,  0.36941286,  2.        ],\n",
       "        [ 4.        , 15.        ,  0.4770354 ,  6.        ],\n",
       "        [ 3.        , 16.        ,  0.50987797,  3.        ],\n",
       "        [ 6.        , 17.        ,  0.52720259,  7.        ],\n",
       "        [18.        , 19.        ,  0.57272733, 10.        ],\n",
       "        [ 2.        , 20.        ,  0.6506786 , 11.        ],\n",
       "        [ 5.        , 21.        ,  0.8763031 , 12.        ]]),\n",
       " 'similarity_metric': 'ami',\n",
       " 'pred_labels': [array([3, 3, 2, ..., 3, 1, 0], dtype=int32),\n",
       "  array([3, 0, 1, ..., 3, 2, 2], dtype=int32)],\n",
       " 'metrics': {'fruit': {'AMI': 0.36895207013614606,\n",
       "   'NMI': 0.36939277330282694,\n",
       "   'ARI': 0.30924853258962315,\n",
       "   'ACC': 0.6322075782537068},\n",
       "  'colour': {'AMI': 0.5942819270054747,\n",
       "   'NMI': 0.5945637584442256,\n",
       "   'ARI': 0.4984967429429012,\n",
       "   'ACC': 0.7009884678747941}},\n",
       " 'splitting': [array([0, 1, 3]), array([ 4,  6,  7,  8,  9, 10, 11])],\n",
       " 'names': [{'category': 'fruit', 'prompt_id': 0},\n",
       "  {'category': 'fruit', 'prompt_id': 1},\n",
       "  {'category': 'fruit', 'prompt_id': 2},\n",
       "  {'category': 'fruit', 'prompt_id': 3},\n",
       "  {'category': 'fruit', 'prompt_id': 4},\n",
       "  {'category': 'fruit', 'prompt_id': 5},\n",
       "  {'category': 'colour', 'prompt_id': 6},\n",
       "  {'category': 'colour', 'prompt_id': 7},\n",
       "  {'category': 'colour', 'prompt_id': 8},\n",
       "  {'category': 'colour', 'prompt_id': 9},\n",
       "  {'category': 'colour', 'prompt_id': 10},\n",
       "  {'category': 'colour', 'prompt_id': 11}]}"
      ]
     },
     "execution_count": 82,
     "metadata": {},
     "output_type": "execute_result"
    }
   ],
   "source": [
    "l"
   ]
  },
  {
   "cell_type": "code",
   "execution_count": null,
   "metadata": {},
   "outputs": [
    {
     "data": {
      "image/png": "[encoded data removed]",
      "text/plain": [
       "<Figure size 640x480 with 1 Axes>"
      ]
     },
     "metadata": {},
     "output_type": "display_data"
    }
   ],
   "source": [
    "from scipy.cluster.hierarchy import dendrogram, linkage\n",
    "from scipy.spatial.distance import squareform\n",
    "\n",
    "# dists = 1-l[\"similarities\"]\n",
    "# np.fill_diagonal(dists, 0)\n",
    "\n",
    "th = 0.55\n",
    "\n",
    "Z = l[\"Z_matrix\"]\n",
    "fix, ax = plt.subplots()\n",
    "plt.title(\"COCO subset\")\n",
    "plt.axhline(th, color=\"black\", linestyle=\"dotted\")\n",
    "dn = dendrogram(Z, color_threshold=th, labels=l[\"names\"])\n",
    "plt.xticks(rotation=90)\n",
    "plt.tight_layout()\n",
    "# plt.savefig(\"gosc_coco.png\")"
   ]
  },
  {
   "cell_type": "code",
   "execution_count": 43,
   "metadata": {},
   "outputs": [
    {
     "data": {
      "text/plain": [
       "array([[ 8.        , 11.        ,  0.1966728 ,  2.        ],\n",
       "       [ 7.        , 12.        ,  0.22858394,  3.        ],\n",
       "       [ 9.        , 13.        ,  0.290849  ,  4.        ],\n",
       "       [10.        , 14.        ,  0.40752312,  5.        ],\n",
       "       [ 0.        ,  3.        ,  0.51351347,  2.        ],\n",
       "       [ 4.        , 16.        ,  0.51545327,  3.        ],\n",
       "       [ 1.        , 17.        ,  0.5176495 ,  4.        ],\n",
       "       [ 6.        , 15.        ,  0.57987891,  6.        ],\n",
       "       [ 2.        , 18.        ,  0.64062942,  5.        ],\n",
       "       [19.        , 20.        ,  0.67903291, 11.        ],\n",
       "       [ 5.        , 21.        ,  0.89035387, 12.        ]])"
      ]
     },
     "execution_count": 43,
     "metadata": {},
     "output_type": "execute_result"
    }
   ],
   "source": [
    "Z"
   ]
  },
  {
   "cell_type": "code",
   "execution_count": 33,
   "metadata": {},
   "outputs": [
    {
     "ename": "NameError",
     "evalue": "name 'all_labels' is not defined",
     "output_type": "error",
     "traceback": [
      "\u001b[0;31m---------------------------------------------------------------------------\u001b[0m",
      "\u001b[0;31mNameError\u001b[0m                                 Traceback (most recent call last)",
      "Cell \u001b[0;32mIn[33], line 1\u001b[0m\n\u001b[0;32m----> 1\u001b[0m \u001b[43mall_labels\u001b[49m\n",
      "\u001b[0;31mNameError\u001b[0m: name 'all_labels' is not defined"
     ]
    }
   ],
   "source": [
    "all_labels"
   ]
  },
  {
   "cell_type": "code",
   "execution_count": 92,
   "metadata": {},
   "outputs": [
    {
     "data": {
      "text/plain": [
       "array([ 0,  7,  8,  9, 10, 11, 12, 13])"
      ]
     },
     "execution_count": 92,
     "metadata": {},
     "output_type": "execute_result"
    }
   ],
   "source": [
    "splitting[0]"
   ]
  },
  {
   "cell_type": "code",
   "execution_count": 89,
   "metadata": {},
   "outputs": [
    {
     "data": {
      "text/plain": [
       "(14, 4856)"
      ]
     },
     "execution_count": 89,
     "metadata": {},
     "output_type": "execute_result"
    }
   ],
   "source": [
    "all_labels.shape"
   ]
  },
  {
   "cell_type": "code",
   "execution_count": 18,
   "metadata": {},
   "outputs": [
    {
     "data": {
      "text/plain": [
       "((8, 4856), (3, 4856))"
      ]
     },
     "execution_count": 18,
     "metadata": {},
     "output_type": "execute_result"
    }
   ],
   "source": [
    "cat_1_labels = all_labels[splitting[0]]\n",
    "cat_2_labels = all_labels[splitting[1]]\n",
    "\n",
    "cat_1_labels.shape, cat_2_labels.shape"
   ]
  },
  {
   "cell_type": "code",
   "execution_count": 74,
   "metadata": {},
   "outputs": [
    {
     "data": {
      "text/plain": [
       "(2, 4856)"
      ]
     },
     "execution_count": 74,
     "metadata": {},
     "output_type": "execute_result"
    }
   ],
   "source": [
    "np.array(pred_labels).shape"
   ]
  },
  {
   "cell_type": "code",
   "execution_count": 75,
   "metadata": {},
   "outputs": [
    {
     "data": {
      "text/plain": [
       "(4856, 2)"
      ]
     },
     "execution_count": 75,
     "metadata": {},
     "output_type": "execute_result"
    }
   ],
   "source": [
    "dataset.get_full_clustering_labels().shape"
   ]
  },
  {
   "cell_type": "code",
   "execution_count": 82,
   "metadata": {},
   "outputs": [
    {
     "data": {
      "text/plain": [
       "{'fruit': {'AMI': 0.3089244705938159,\n",
       "  'NMI': 0.30942002266596474,\n",
       "  'ARI': 0.1830984310608413,\n",
       "  'ACC': 0.5685749588138386},\n",
       " 'colour': {'AMI': 0.6472161601588393,\n",
       "  'NMI': 0.6474614827289266,\n",
       "  'ARI': 0.5602229780851827,\n",
       "  'ACC': 0.7767710049423394}}"
      ]
     },
     "execution_count": 82,
     "metadata": {},
     "output_type": "execute_result"
    }
   ],
   "source": [
    "from alternative_image_clustering.metrics import get_metrics, get_multiple_labeling_metrics\n",
    "\n",
    "\n",
    "get_multiple_labeling_metrics(\n",
    "    labels_true=dataset.get_full_clustering_labels(),\n",
    "    labels_pred=np.array(pred_labels).T,\n",
    "    categories=dataset.get_categories()\n",
    ")"
   ]
  },
  {
   "cell_type": "code",
   "execution_count": 23,
   "metadata": {},
   "outputs": [
    {
     "name": "stdout",
     "output_type": "stream",
     "text": [
      "[(0, 1, 2, 3)]\n"
     ]
    },
    {
     "data": {
      "text/plain": [
       "[[0],\n",
       " [1],\n",
       " [2],\n",
       " [3],\n",
       " [0, 1],\n",
       " [0, 2],\n",
       " [0, 3],\n",
       " [1, 2],\n",
       " [1, 3],\n",
       " [2, 3],\n",
       " [0, 1, 2],\n",
       " [0, 1, 3],\n",
       " [0, 2, 3],\n",
       " [1, 2, 3],\n",
       " [0, 1, 2, 3]]"
      ]
     },
     "execution_count": 23,
     "metadata": {},
     "output_type": "execute_result"
    }
   ],
   "source": [
    "from itertools import combinations\n",
    "\n",
    "max_level = 4\n",
    "\n",
    "comb_ids = [list(comb) for i in range(1, max_level + 1) for comb in combinations(range(max_level), i)]\n",
    "print(list(combinations(range(max_level), 4)))\n",
    "comb_ids"
   ]
  }
 ],
 "metadata": {
  "kernelspec": {
   "display_name": "alternative_clustering",
   "language": "python",
   "name": "python3"
  },
  "language_info": {
   "codemirror_mode": {
    "name": "ipython",
    "version": 3
   },
   "file_extension": ".py",
   "mimetype": "text/x-python",
   "name": "python",
   "nbconvert_exporter": "python",
   "pygments_lexer": "ipython3",
   "version": "3.11.8"
  }
 },
 "nbformat": 4,
 "nbformat_minor": 2
}
