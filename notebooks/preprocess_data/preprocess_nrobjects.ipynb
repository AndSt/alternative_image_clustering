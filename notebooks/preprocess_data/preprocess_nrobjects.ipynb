{
 "cells": [
  {
   "cell_type": "code",
   "execution_count": 9,
   "metadata": {},
   "outputs": [
    {
     "name": "stdout",
     "output_type": "stream",
     "text": [
      "The autoreload extension is already loaded. To reload it, use:\n",
      "  %reload_ext autoreload\n"
     ]
    }
   ],
   "source": [
    "%load_ext autoreload\n",
    "%autoreload 2\n",
    "\n",
    "import sys\n",
    "import os\n",
    "\n",
    "import pandas as pd\n",
    "import joblib\n",
    "import json\n",
    "import numpy as np\n",
    "\n",
    "sys.path.append('..')"
   ]
  },
  {
   "cell_type": "code",
   "execution_count": 10,
   "metadata": {},
   "outputs": [],
   "source": [
    "\n",
    "data_dir = \"/mnt/data/stephana93dm/storage/projects/alternative_clustering/alternative_clustering/datasets/\"\n",
    "load_dir = os.path.join(data_dir, \"NR-Objects\")\n",
    "save_dir = os.path.join(data_dir, \"processed\")\n",
    "\n",
    "json_dir = os.path.join(load_dir, \"scenes\")\n",
    "png_dir = os.path.join(load_dir, \"images\")"
   ]
  },
  {
   "cell_type": "code",
   "execution_count": 11,
   "metadata": {},
   "outputs": [
    {
     "data": {
      "text/html": [
       "<div>\n",
       "<style scoped>\n",
       "    .dataframe tbody tr th:only-of-type {\n",
       "        vertical-align: middle;\n",
       "    }\n",
       "\n",
       "    .dataframe tbody tr th {\n",
       "        vertical-align: top;\n",
       "    }\n",
       "\n",
       "    .dataframe thead th {\n",
       "        text-align: right;\n",
       "    }\n",
       "</style>\n",
       "<table border=\"1\" class=\"dataframe\">\n",
       "  <thead>\n",
       "    <tr style=\"text-align: right;\">\n",
       "      <th></th>\n",
       "      <th>image_filename</th>\n",
       "      <th>shape</th>\n",
       "      <th>material</th>\n",
       "      <th>colour</th>\n",
       "    </tr>\n",
       "  </thead>\n",
       "  <tbody>\n",
       "    <tr>\n",
       "      <th>0</th>\n",
       "      <td>CLEVR_train_004805.json</td>\n",
       "      <td>cube</td>\n",
       "      <td>metal</td>\n",
       "      <td>gray</td>\n",
       "    </tr>\n",
       "    <tr>\n",
       "      <th>1</th>\n",
       "      <td>CLEVR_train_002941.json</td>\n",
       "      <td>cylinder</td>\n",
       "      <td>metal</td>\n",
       "      <td>blue</td>\n",
       "    </tr>\n",
       "    <tr>\n",
       "      <th>2</th>\n",
       "      <td>CLEVR_train_003517.json</td>\n",
       "      <td>sphere</td>\n",
       "      <td>metal</td>\n",
       "      <td>yellow</td>\n",
       "    </tr>\n",
       "    <tr>\n",
       "      <th>3</th>\n",
       "      <td>CLEVR_train_007883.json</td>\n",
       "      <td>sphere</td>\n",
       "      <td>rubber</td>\n",
       "      <td>gray</td>\n",
       "    </tr>\n",
       "    <tr>\n",
       "      <th>4</th>\n",
       "      <td>CLEVR_train_002484.json</td>\n",
       "      <td>sphere</td>\n",
       "      <td>rubber</td>\n",
       "      <td>red</td>\n",
       "    </tr>\n",
       "  </tbody>\n",
       "</table>\n",
       "</div>"
      ],
      "text/plain": [
       "            image_filename     shape material  colour\n",
       "0  CLEVR_train_004805.json      cube    metal    gray\n",
       "1  CLEVR_train_002941.json  cylinder    metal    blue\n",
       "2  CLEVR_train_003517.json    sphere    metal  yellow\n",
       "3  CLEVR_train_007883.json    sphere   rubber    gray\n",
       "4  CLEVR_train_002484.json    sphere   rubber     red"
      ]
     },
     "execution_count": 11,
     "metadata": {},
     "output_type": "execute_result"
    }
   ],
   "source": [
    "df = []\n",
    "\n",
    "i = 0\n",
    "for file_name in os.listdir(json_dir):\n",
    "    # i = i + 1\n",
    "    # if i > 3:\n",
    "    #     break\n",
    "    json_file = os.path.join(json_dir, file_name)\n",
    "    if not file_name.endswith(\".json\") or \"scenes\" in file_name:\n",
    "        continue\n",
    "    with open(json_file, 'r') as f:\n",
    "        data = json.load(f)\n",
    "    # print(data[\"objects\"]) \n",
    "    if \"objects\" not in data:\n",
    "        print(json_file)\n",
    "        print(data)\n",
    "    assert len(data[\"objects\"]) == 1\n",
    "    row = {\n",
    "        \"image_filename\": file_name,\n",
    "        \"shape\": data[\"objects\"][0][\"shape\"],\n",
    "        \"material\": data[\"objects\"][0][\"material\"],\n",
    "        \"colour\": data[\"objects\"][0][\"color\"],\n",
    "    }\n",
    "    df.append(row)\n",
    "\n",
    "df = pd.DataFrame(df)\n",
    "df.head()"
   ]
  },
  {
   "cell_type": "code",
   "execution_count": 12,
   "metadata": {},
   "outputs": [],
   "source": [
    "from sklearn.preprocessing import LabelEncoder\n",
    "\n",
    "shape_le = LabelEncoder()\n",
    "material_le = LabelEncoder()\n",
    "colour_le = LabelEncoder()\n",
    "\n",
    "df[\"shape_clusters\"] = shape_le.fit_transform(df[\"shape\"])\n",
    "df[\"material_clusters\"] = material_le.fit_transform(df[\"material\"])\n",
    "df[\"colour_clusters\"] = colour_le.fit_transform(df[\"colour\"])"
   ]
  },
  {
   "cell_type": "code",
   "execution_count": 13,
   "metadata": {},
   "outputs": [
    {
     "data": {
      "text/plain": [
       "{'shape': {0: 'cube', 1: 'cylinder', 2: 'sphere'},\n",
       " 'material': {0: 'metal', 1: 'rubber'},\n",
       " 'colour': {0: 'blue',\n",
       "  1: 'gray',\n",
       "  2: 'green',\n",
       "  3: 'purple',\n",
       "  4: 'red',\n",
       "  5: 'yellow'}}"
      ]
     },
     "execution_count": 13,
     "metadata": {},
     "output_type": "execute_result"
    }
   ],
   "source": [
    "cluster_to_name = {\n",
    "    \"shape\": {i: name for i, name in enumerate(shape_le.classes_)},\n",
    "    \"material\": {i: name for i, name in enumerate(material_le.classes_)},\n",
    "    \"colour\": {i: name for i, name in enumerate(colour_le.classes_)},\n",
    "}\n",
    "cluster_to_name"
   ]
  },
  {
   "cell_type": "code",
   "execution_count": 14,
   "metadata": {},
   "outputs": [],
   "source": [
    "import shutil\n",
    "\n",
    "\n",
    "save_folder = os.path.join(save_dir, \"NR-Objects\")\n",
    "image_save_folder = os.path.join(save_folder, \"images\")\n",
    "clustering_save_folder = os.path.join(save_folder, \"clustering\")\n",
    "os.makedirs(image_save_folder, exist_ok=True)\n",
    "os.makedirs(clustering_save_folder, exist_ok=True)\n",
    "\n",
    "with open(os.path.join(save_folder, \"cluster_to_name.json\"), \"w\") as f:\n",
    "    json.dump(cluster_to_name, f)\n",
    "\n",
    "for cluster_name in [\"shape\", \"material\", \"colour\"]:\n",
    "    dictionary = {}\n",
    "    for idx, row in df.iterrows():\n",
    "        name = row[\"image_filename\"].replace(\".json\", \".png\")\n",
    "        dictionary[name] = row[f\"{cluster_name}_clusters\"]\n",
    "\n",
    "        src = os.path.join(png_dir, name)\n",
    "        dst = os.path.join(image_save_folder, name)\n",
    "        shutil.copyfile(src, dst)\n",
    "    \n",
    "    save_file = os.path.join(clustering_save_folder, f\"clusters_{cluster_name}.json\")\n",
    "    with open(save_file, \"w\") as f:\n",
    "        json.dump(dictionary, f)"
   ]
  },
  {
   "cell_type": "code",
   "execution_count": 15,
   "metadata": {},
   "outputs": [
    {
     "data": {
      "image/png": "[encoded data removed]",
      "text/plain": [
       "<PIL.PngImagePlugin.PngImageFile image mode=RGBA size=128x128>"
      ]
     },
     "metadata": {},
     "output_type": "display_data"
    }
   ],
   "source": [
    "import PIL.Image as Image\n",
    "\n",
    "def display_image(image):\n",
    "    image = Image.open(image)\n",
    "    image.show()\n",
    "\n",
    "display_image(os.path.join(png_dir, \"CLEVR_train_000000.png\"))"
   ]
  }
 ],
 "metadata": {
  "kernelspec": {
   "display_name": "alternative_clustering",
   "language": "python",
   "name": "python3"
  },
  "language_info": {
   "codemirror_mode": {
    "name": "ipython",
    "version": 3
   },
   "file_extension": ".py",
   "mimetype": "text/x-python",
   "name": "python",
   "nbconvert_exporter": "python",
   "pygments_lexer": "ipython3",
   "version": "3.11.8"
  }
 },
 "nbformat": 4,
 "nbformat_minor": 2
}
