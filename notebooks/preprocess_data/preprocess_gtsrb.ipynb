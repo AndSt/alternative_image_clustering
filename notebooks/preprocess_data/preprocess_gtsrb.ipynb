{
 "cells": [
  {
   "cell_type": "code",
   "execution_count": 2,
   "metadata": {},
   "outputs": [
    {
     "name": "stdout",
     "output_type": "stream",
     "text": [
      "The autoreload extension is already loaded. To reload it, use:\n",
      "  %reload_ext autoreload\n"
     ]
    }
   ],
   "source": [
    "%load_ext autoreload\n",
    "%autoreload 2\n",
    "\n",
    "import sys\n",
    "import os\n",
    "\n",
    "import pandas as pd\n",
    "import joblib\n",
    "import json\n",
    "import numpy as np\n",
    "\n",
    "sys.path.append('..')"
   ]
  },
  {
   "cell_type": "code",
   "execution_count": 3,
   "metadata": {},
   "outputs": [],
   "source": [
    "folder_to_cluster_name = {\n",
    "    \"type\": {\n",
    "        \"00004\": \"70_limit\",\n",
    "        \"00009\": \"dont_overtake\",\n",
    "        \"00035\": \"go_straight\",\n",
    "        \"00038\": \"go_right\",\n",
    "    },\n",
    "    \"colour\": {\n",
    "        \"00004\": \"red\",\n",
    "        \"00009\": \"red\",\n",
    "        \"00035\": \"blue\",\n",
    "        \"00038\": \"blue\",\n",
    "    }\n",
    "}"
   ]
  },
  {
   "cell_type": "code",
   "execution_count": 4,
   "metadata": {},
   "outputs": [],
   "source": [
    "data_dir = \"/mnt/data/stephana93dm/storage/projects/alternative_clustering/alternative_clustering/datasets/\"\n",
    "\n",
    "dataset_name = \"GTSRB\"\n",
    "load_dir = os.path.join(data_dir, dataset_name, \"train\")\n",
    "save_dir = os.path.join(data_dir, \"processed\")\n"
   ]
  },
  {
   "cell_type": "code",
   "execution_count": 5,
   "metadata": {},
   "outputs": [
    {
     "data": {
      "text/html": [
       "<div>\n",
       "<style scoped>\n",
       "    .dataframe tbody tr th:only-of-type {\n",
       "        vertical-align: middle;\n",
       "    }\n",
       "\n",
       "    .dataframe tbody tr th {\n",
       "        vertical-align: top;\n",
       "    }\n",
       "\n",
       "    .dataframe thead th {\n",
       "        text-align: right;\n",
       "    }\n",
       "</style>\n",
       "<table border=\"1\" class=\"dataframe\">\n",
       "  <thead>\n",
       "    <tr style=\"text-align: right;\">\n",
       "      <th></th>\n",
       "      <th>name</th>\n",
       "      <th>image_filename</th>\n",
       "      <th>colour</th>\n",
       "      <th>type</th>\n",
       "    </tr>\n",
       "  </thead>\n",
       "  <tbody>\n",
       "    <tr>\n",
       "      <th>0</th>\n",
       "      <td>go_straight_00000_00011.ppm</td>\n",
       "      <td>/mnt/data/stephana93dm/storage/projects/altern...</td>\n",
       "      <td>blue</td>\n",
       "      <td>go_straight</td>\n",
       "    </tr>\n",
       "    <tr>\n",
       "      <th>1</th>\n",
       "      <td>go_straight_00032_00026.ppm</td>\n",
       "      <td>/mnt/data/stephana93dm/storage/projects/altern...</td>\n",
       "      <td>blue</td>\n",
       "      <td>go_straight</td>\n",
       "    </tr>\n",
       "    <tr>\n",
       "      <th>2</th>\n",
       "      <td>go_straight_00022_00013.ppm</td>\n",
       "      <td>/mnt/data/stephana93dm/storage/projects/altern...</td>\n",
       "      <td>blue</td>\n",
       "      <td>go_straight</td>\n",
       "    </tr>\n",
       "    <tr>\n",
       "      <th>3</th>\n",
       "      <td>go_straight_00038_00020.ppm</td>\n",
       "      <td>/mnt/data/stephana93dm/storage/projects/altern...</td>\n",
       "      <td>blue</td>\n",
       "      <td>go_straight</td>\n",
       "    </tr>\n",
       "    <tr>\n",
       "      <th>4</th>\n",
       "      <td>go_straight_00015_00017.ppm</td>\n",
       "      <td>/mnt/data/stephana93dm/storage/projects/altern...</td>\n",
       "      <td>blue</td>\n",
       "      <td>go_straight</td>\n",
       "    </tr>\n",
       "  </tbody>\n",
       "</table>\n",
       "</div>"
      ],
      "text/plain": [
       "                          name  \\\n",
       "0  go_straight_00000_00011.ppm   \n",
       "1  go_straight_00032_00026.ppm   \n",
       "2  go_straight_00022_00013.ppm   \n",
       "3  go_straight_00038_00020.ppm   \n",
       "4  go_straight_00015_00017.ppm   \n",
       "\n",
       "                                      image_filename colour         type  \n",
       "0  /mnt/data/stephana93dm/storage/projects/altern...   blue  go_straight  \n",
       "1  /mnt/data/stephana93dm/storage/projects/altern...   blue  go_straight  \n",
       "2  /mnt/data/stephana93dm/storage/projects/altern...   blue  go_straight  \n",
       "3  /mnt/data/stephana93dm/storage/projects/altern...   blue  go_straight  \n",
       "4  /mnt/data/stephana93dm/storage/projects/altern...   blue  go_straight  "
      ]
     },
     "execution_count": 5,
     "metadata": {},
     "output_type": "execute_result"
    }
   ],
   "source": [
    "df = []\n",
    "\n",
    "for folder in os.listdir(load_dir):\n",
    "    if not os.path.isdir(os.path.join(load_dir, folder)):\n",
    "        continue\n",
    "    colour_ = folder_to_cluster_name[\"colour\"][folder]\n",
    "    type_ = folder_to_cluster_name[\"type\"][folder]\n",
    "\n",
    "    for file in os.listdir(os.path.join(load_dir, folder)):\n",
    "        if file.endswith(\".ppm\"):\n",
    "            df.append({\n",
    "                \"name\": f\"{type_}_{file}\",\n",
    "                \"image_filename\": os.path.join(load_dir, folder, file),\n",
    "                \"colour\": colour_,\n",
    "                \"type\": type_,\n",
    "            })\n",
    "\n",
    "df = pd.DataFrame(df)\n",
    "df.head()"
   ]
  },
  {
   "cell_type": "code",
   "execution_count": 6,
   "metadata": {},
   "outputs": [
    {
     "data": {
      "text/plain": [
       "6720"
      ]
     },
     "execution_count": 6,
     "metadata": {},
     "output_type": "execute_result"
    }
   ],
   "source": [
    "len(df)"
   ]
  },
  {
   "cell_type": "code",
   "execution_count": 7,
   "metadata": {},
   "outputs": [],
   "source": [
    "from sklearn.preprocessing import LabelEncoder\n",
    "\n",
    "type_le = LabelEncoder()\n",
    "colour_le = LabelEncoder()\n",
    "\n",
    "df[\"type_clusters\"] = type_le.fit_transform(df[\"type\"])\n",
    "df[\"colour_clusters\"] = colour_le.fit_transform(df[\"colour\"])"
   ]
  },
  {
   "cell_type": "code",
   "execution_count": 8,
   "metadata": {},
   "outputs": [
    {
     "data": {
      "text/plain": [
       "{'type': {0: '70_limit', 1: 'dont_overtake', 2: 'go_right', 3: 'go_straight'},\n",
       " 'colour': {0: 'blue', 1: 'red'}}"
      ]
     },
     "execution_count": 8,
     "metadata": {},
     "output_type": "execute_result"
    }
   ],
   "source": [
    "cluster_to_name = {\n",
    "    \"type\": {i: name for i, name in enumerate(type_le.classes_)},\n",
    "    \"colour\": {i: name for i, name in enumerate(colour_le.classes_)}\n",
    "}\n",
    "cluster_to_name"
   ]
  },
  {
   "cell_type": "code",
   "execution_count": 20,
   "metadata": {},
   "outputs": [],
   "source": [
    "import shutil\n",
    "\n",
    "\n",
    "save_folder = os.path.join(save_dir, dataset_name)\n",
    "image_save_folder = os.path.join(save_folder, \"images\")\n",
    "clustering_save_folder = os.path.join(save_folder, \"clustering\")\n",
    "os.makedirs(image_save_folder, exist_ok=True)\n",
    "os.makedirs(clustering_save_folder, exist_ok=True)\n",
    "\n",
    "with open(os.path.join(save_folder, \"cluster_to_name.json\"), \"w\") as f:\n",
    "    json.dump(cluster_to_name, f)\n",
    "\n",
    "for cluster_name in [\"type\", \"colour\"]:\n",
    "    dictionary = {}\n",
    "    for idx, row in df.iterrows():\n",
    "        name = row[\"name\"]\n",
    "        dictionary[name] = row[f\"{cluster_name}_clusters\"]\n",
    "\n",
    "        src = row[\"image_filename\"]\n",
    "        dst = os.path.join(image_save_folder, name)\n",
    "        shutil.copyfile(src, dst)\n",
    "    \n",
    "    save_file = os.path.join(clustering_save_folder, f\"clusters_{cluster_name}.json\")\n",
    "    with open(save_file, \"w\") as f:\n",
    "        json.dump(dictionary, f)"
   ]
  }
 ],
 "metadata": {
  "kernelspec": {
   "display_name": "alternative_clustering",
   "language": "python",
   "name": "python3"
  },
  "language_info": {
   "codemirror_mode": {
    "name": "ipython",
    "version": 3
   },
   "file_extension": ".py",
   "mimetype": "text/x-python",
   "name": "python",
   "nbconvert_exporter": "python",
   "pygments_lexer": "ipython3",
   "version": "3.11.8"
  }
 },
 "nbformat": 4,
 "nbformat_minor": 2
}
